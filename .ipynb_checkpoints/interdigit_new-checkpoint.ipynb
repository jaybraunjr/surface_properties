{
 "cells": [
  {
   "cell_type": "code",
   "execution_count": 1,
   "id": "9de296ba",
   "metadata": {},
   "outputs": [],
   "source": [
    "import MDAnalysis as mda\n",
    "import numpy as np\n",
    "import matplotlib.pyplot as plt\n",
    "import pandas as pd\n",
    "import os\n",
    "import sys\n",
    "import seaborn as sns\n",
    "from Surface import InterdigitationAnalysis\n",
    "\n",
    "base_path = '/mnt/d'"
   ]
  },
  {
   "cell_type": "code",
   "execution_count": 4,
   "id": "859ff1ec",
   "metadata": {},
   "outputs": [],
   "source": [
    "eq = mda.Universe('/mnt/d/trajs/ld.psf', f'{base_path}/eq_total.dcd')"
   ]
  },
  {
   "cell_type": "markdown",
   "id": "8ee19e75",
   "metadata": {},
   "source": [
    "# Interdigitation, overlap, densities"
   ]
  },
  {
   "cell_type": "code",
   "execution_count": 5,
   "id": "c4c20961",
   "metadata": {},
   "outputs": [],
   "source": [
    "def run_interdigitation_analysis(universe, lipids, neutral_lipid, solvent, nbins=100, b=0, e=None):\n",
    "    analysis = InterdigitationAnalysis(universe, lipids, neutral_lipid, solvent)\n",
    "    return analysis.interdigit(nbins=nbins, b=b, e=e)"
   ]
  },
  {
   "cell_type": "code",
   "execution_count": 6,
   "id": "641890f1",
   "metadata": {},
   "outputs": [
    {
     "name": "stderr",
     "output_type": "stream",
     "text": [
      "Processing frames: 100%|████████████████████████████████████████████████████████████████████████████████████████████████████████████████████████████████████████████████████████████████████████████████████| 100/100 [00:08<00:00, 11.34frame/s]"
     ]
    },
    {
     "name": "stdout",
     "output_type": "stream",
     "text": [
      "units: Z (nm), interdigitation (nm), time (ns), density (g/m3)\n"
     ]
    },
    {
     "name": "stderr",
     "output_type": "stream",
     "text": [
      "\n"
     ]
    }
   ],
   "source": [
    "results_drude_eq = run_interdigitation_analysis(eq, ['POPC', 'DOPE', 'SAPI'], 'TRIO', 'SWM4', b=50, e=150)"
   ]
  },
  {
   "cell_type": "code",
   "execution_count": 8,
   "id": "d13c432c",
   "metadata": {},
   "outputs": [],
   "source": [
    "import pickle"
   ]
  },
  {
   "cell_type": "code",
   "execution_count": 10,
   "id": "33aeeced",
   "metadata": {},
   "outputs": [],
   "source": [
    "with open('results_drude_eq.pkl', 'wb') as f:\n",
    "    pickle.dump(results_drude_eq, f)"
   ]
  },
  {
   "cell_type": "code",
   "execution_count": 11,
   "id": "93b1dd1b",
   "metadata": {},
   "outputs": [],
   "source": [
    "with open('results_drude_eq.pkl', 'rb') as f:\n",
    "    results_drude_eq = pickle.load(f)\n",
    "\n"
   ]
  },
  {
   "cell_type": "code",
   "execution_count": 10,
   "id": "50217d35",
   "metadata": {},
   "outputs": [],
   "source": [
    "def plot_interdigitation_over_time(results):\n",
    "    # Extract data for plotting\n",
    "    total_interdigitation = results['inter']['total']\n",
    "    strong_interdigitation = results['inter']['strong']\n",
    "    weak_interdigitation = results['inter']['weak']\n",
    "\n",
    "    # Extract time and interdigitation values\n",
    "    time_total, inter_total = total_interdigitation[:, 0], total_interdigitation[:, 1]\n",
    "    time_strong, inter_strong = strong_interdigitation[:, 0], strong_interdigitation[:, 1]\n",
    "    time_weak, inter_weak = weak_interdigitation[:, 0], weak_interdigitation[:, 1]\n",
    "\n",
    "    # Create the plot\n",
    "    plt.figure(figsize=(5, 2))\n",
    "    plt.plot(time_total, inter_total, label='Total Intedigitation', color='blue')\n",
    "    plt.plot(time_strong, inter_strong, label='Strong Intedigitation', color='green')\n",
    "    plt.plot(time_weak, inter_weak, label='Weak Intedigitation', color='red')\n",
    "\n",
    "    plt.title('Interdigitation Over Time')\n",
    "    plt.xlabel('Time (ns)')\n",
    "    plt.ylabel('Interdigitation (nm)')\n",
    "    plt.ylim(0, 2.9)\n",
    "#     plt.legend()\n",
    "    plt.grid(True)\n",
    "    plt.show()\n",
    "def plot_overlap(results):\n",
    "    # Extract data for plotting\n",
    "    total_overlap = results['ov']['total']\n",
    "    strong_overlap = results['ov']['strong']\n",
    "    weak_overlap = results['ov']['weak']\n",
    "\n",
    "    # Extract z-coordinates and overlap values\n",
    "    z_coords, ov_total = total_overlap[:, 0], total_overlap[:, 1]\n",
    "    _, ov_strong = strong_overlap[:, 0], strong_overlap[:, 1]\n",
    "    _, ov_weak = weak_overlap[:, 0], weak_overlap[:, 1]\n",
    "\n",
    "    # Create the plot\n",
    "    plt.figure(figsize=(5, 2))\n",
    "    plt.plot(z_coords, ov_total, label='Total Overlap', color='blue', linewidth=2)\n",
    "    plt.plot(z_coords, ov_strong, label='Strong Overlap', color='green', linewidth=2)\n",
    "    plt.plot(z_coords, ov_weak, label='Weak Overlap', color='red', linewidth=2)\n",
    "\n",
    "    plt.title('Overlap as a Function of Z-coordinate')\n",
    "    plt.xlabel('Z-coordinate (nm)')\n",
    "    plt.ylabel('Overlap (dimensionless)')\n",
    "    plt.ylim(0, 1)\n",
    "#     plt.legend()\n",
    "    plt.grid(True)\n",
    "    plt.show()\n",
    "\n",
    "# Assuming 'results' is your data dictionary loaded as per your simulation outputs\n",
    "\n",
    "\n",
    "def plot_densities(results):\n",
    "    # Extract density data\n",
    "    pl_density = results['density']['PL']\n",
    "    trio_density = results['density']['TRIO']\n",
    "    surf_trio_density = results['density']['SURF-TRIO']\n",
    "    core_trio_density = results['density']['CORE-TRIO']\n",
    "    water_density = results['density']['water']\n",
    "\n",
    "    # Extract z-coordinates and density values\n",
    "    z_coords, den_pl = pl_density[:, 0], pl_density[:, 1]\n",
    "    _, den_trio = trio_density[:, 0], trio_density[:, 1]\n",
    "    _, den_surf_trio = surf_trio_density[:, 0], surf_trio_density[:, 1]\n",
    "    _, den_core_trio = core_trio_density[:, 0], core_trio_density[:, 1]\n",
    "    _, den_water = water_density[:, 0], water_density[:, 1]\n",
    "\n",
    "    # Create the plot\n",
    "    plt.figure(figsize=(5, 2))\n",
    "    plt.plot(z_coords, den_pl, label='PL Density', color='blue', linewidth=2)\n",
    "    plt.plot(z_coords, den_trio, label='TRIO Density', color='green', linewidth=2)\n",
    "    plt.plot(z_coords, den_surf_trio, label='SURF-TRIO Density', color='red', linewidth=2)\n",
    "    plt.plot(z_coords, den_core_trio, label='CORE-TRIO Density', color='purple', linewidth=2)\n",
    "    plt.plot(z_coords, den_water, label='Water Density', color='cyan', linewidth=2)\n",
    "\n",
    "    plt.title('Density Profiles Along Z-Coordinate')\n",
    "    plt.xlabel('Z-coordinate (nm)')\n",
    "    plt.ylabel('Density (g/m³)')\n",
    "#     plt.legend()\n",
    "    plt.grid(True)\n",
    "    plt.show()\n",
    "\n",
    "def plot_ratios(results):\n",
    "    # Extract data for plotting\n",
    "    num_ratio = results['ratio']['num']          # Number of strong interdigitating molecules over time\n",
    "    trio_to_pl_ratio = results['ratio']['trio-to-pl']  # Ratio of strong interdigitating molecules to phospholipids\n",
    "    trio_to_pl_trio_ratio = results['ratio']['trio-to-pl+trio']  # Ratio of strong interdigitating molecules to the sum of phospholipids and strong interdigitating molecules\n",
    "\n",
    "    # Extract time and ratio values\n",
    "    time_num, ratio_num = num_ratio[:, 0], num_ratio[:, 1]\n",
    "    time_trio_to_pl, ratio_trio_to_pl = trio_to_pl_ratio[:, 0], trio_to_pl_ratio[:, 1]\n",
    "    time_trio_to_pl_trio, ratio_trio_to_pl_trio = trio_to_pl_trio_ratio[:, 0], trio_to_pl_trio_ratio[:, 1]\n",
    "\n",
    "    # Create the plot\n",
    "    plt.figure(figsize=(8, 6))\n",
    "    plt.subplot(311)  # 3 rows, 1 column, 1st subplot\n",
    "    plt.plot(time_num, ratio_num, label='Number of Strong Interdigitators', color='blue', linewidth=2)\n",
    "    plt.title('Number of Strong Interdigitating Molecules Over Time')\n",
    "    plt.xlabel('Time (ns)')\n",
    "    plt.ylabel('Number')\n",
    "    plt.ylim(0,30)\n",
    "#     plt.legend()\n",
    "    plt.grid(True)\n",
    "\n",
    "\n",
    "\n",
    "    plt.tight_layout()  # Adjust subplots to fit into figure area.\n",
    "    plt.show()\n",
    "\n",
    "\n"
   ]
  },
  {
   "cell_type": "code",
   "execution_count": 13,
   "id": "8b380b55",
   "metadata": {},
   "outputs": [],
   "source": [
    "def plot_interdigitation_over_time_all(results_list, titles, ncols=3):\n",
    "\n",
    "    nrows = (len(results_list) + ncols - 1) // ncols  \n",
    "    fig, axes = plt.subplots(nrows=nrows, ncols=ncols, figsize=(ncols * 5, nrows * 3))\n",
    "    axes = axes.flatten() \n",
    "    lines = []  \n",
    "    labels = [] \n",
    "    \n",
    "    for i, (results, title) in enumerate(zip(results_list, titles)):\n",
    "        total_interdigitation = results['inter']['total']\n",
    "        strong_interdigitation = results['inter']['strong']\n",
    "        weak_interdigitation = results['inter']['weak']\n",
    "\n",
    "        # Extract time and interdigitation values\n",
    "        time_total, inter_total = total_interdigitation[:, 0], total_interdigitation[:, 1]\n",
    "        time_strong, inter_strong = strong_interdigitation[:, 0], strong_interdigitation[:, 1]\n",
    "        time_weak, inter_weak = weak_interdigitation[:, 0], weak_interdigitation[:, 1]\n",
    "        \n",
    "        if 'drude' in title.lower():\n",
    "            time_total *= 100\n",
    "            time_strong *= 100\n",
    "            time_weak *= 100\n",
    "\n",
    "        # Plot on respective axes\n",
    "        line1, = axes[i].plot(time_total, inter_total, label='Total Intedigitation', color='blue')\n",
    "        line2, = axes[i].plot(time_strong, inter_strong, label='Strong Intedigitation', color='green')\n",
    "        line3, = axes[i].plot(time_weak, inter_weak, label='Weak Intedigitation', color='red')\n",
    "\n",
    "        axes[i].set_title(titles[i])\n",
    "        axes[i].set_xlabel('Time (ns)')\n",
    "        axes[i].set_ylabel('Interdigitation (nm)')\n",
    "        axes[i].set_ylim(0, 2.9)\n",
    "        axes[i].set_xlim(1, None)\n",
    "        axes[i].grid(True)\n",
    "        if i == 0:  \n",
    "            lines.extend([line1, line2, line3])\n",
    "            labels.extend([line.get_label() for line in [line1, line2, line3]])\n",
    "    fig.legend(lines, labels, bbox_to_anchor=(0.6, 0.0), fontsize='large')\n",
    "    for j in range(len(results_list), len(axes)):\n",
    "        fig.delaxes(axes[j])\n",
    "\n",
    "    plt.tight_layout()\n",
    "#     plt.savefig('interdigit_relevent.png',dpi=400,bbox_inches='tight')\n",
    "    plt.show()\n"
   ]
  },
  {
   "cell_type": "code",
   "execution_count": 14,
   "id": "ef88b1f7",
   "metadata": {},
   "outputs": [
    {
     "data": {
      "image/png": "[encoded data removed]",
      "text/plain": [
       "<Figure size 1500x300 with 1 Axes>"
      ]
     },
     "metadata": {},
     "output_type": "display_data"
    }
   ],
   "source": [
    "results_list = [results_drude_eq]\n",
    "titles = ['Drude']\n",
    "plot_interdigitation_over_time_all(results_list, titles)\n"
   ]
  },
  {
   "cell_type": "code",
   "execution_count": 19,
   "id": "7d5d5063",
   "metadata": {},
   "outputs": [
    {
     "data": {
      "image/png": "[encoded data removed]",
      "text/plain": [
       "<Figure size 900x200 with 1 Axes>"
      ]
     },
     "metadata": {},
     "output_type": "display_data"
    }
   ],
   "source": [
    "def plot_interdigitation_over_time_strong(results_list, titles, ncols=3):\n",
    "    nrows = (len(results_list) + ncols - 1) // ncols\n",
    "    fig, axes = plt.subplots(nrows=nrows, ncols=ncols, figsize=(ncols * 3, nrows *2)) \n",
    "    axes = axes.flatten()\n",
    "    lines = []\n",
    "    labels = []\n",
    "    for i, (results, title) in enumerate(zip(results_list, titles)):\n",
    "        strong_interdigitation = results['inter']['strong']\n",
    "        time_strong, inter_strong = strong_interdigitation[:, 0], strong_interdigitation[:, 1]\n",
    "        if 'drude' in title.lower():\n",
    "            time_strong *= 100\n",
    "        line2, = axes[i].plot(time_strong, inter_strong, label='Strong Interdigitation', color='green')\n",
    "        axes[i].set_title(titles[i])\n",
    "        axes[i].set_xlabel('Time (ns)')\n",
    "        axes[i].set_ylabel('nm')\n",
    "        axes[i].set_ylim(0, 2.3)\n",
    "        axes[i].set_xlim(1, None)\n",
    "        axes[i].grid(True)\n",
    "        if i == 0:\n",
    "            lines.append(line2)\n",
    "            labels.append(line2.get_label())\n",
    "    fig.legend(lines, labels, bbox_to_anchor=(0.6, 0.0), fontsize='large')\n",
    "    for j in range(len(results_list), len(axes)):\n",
    "        fig.delaxes(axes[j])\n",
    "    plt.tight_layout()\n",
    "#     plt.savefig('strong_inter_all.png',dpi=600,bbox_inches='tight')\n",
    "    plt.show()\n",
    "\n",
    "results_list = [results_drude_eq]\n",
    "titles = ['Drude']\n",
    "plot_interdigitation_over_time_strong(results_list, titles)\n"
   ]
  },
  {
   "cell_type": "markdown",
   "id": "21c4783a",
   "metadata": {},
   "source": [
    "# Number SURF-TG "
   ]
  },
  {
   "cell_type": "code",
   "execution_count": 16,
   "id": "77ad9fff",
   "metadata": {},
   "outputs": [],
   "source": [
    "def preprocess_data(results_list, titles):\n",
    "    processed_results = []\n",
    "    for results, title in zip(results_list, titles):\n",
    "        if 'drude' in title.lower():\n",
    "            results_copy = results.copy()\n",
    "            results_copy['inter']['strong'][:, 0] *= 100\n",
    "            processed_results.append(results_copy)\n",
    "        else:\n",
    "            processed_results.append(results)\n",
    "    return processed_results"
   ]
  },
  {
   "cell_type": "code",
   "execution_count": 17,
   "id": "0e9dc796",
   "metadata": {},
   "outputs": [],
   "source": [
    "processed_results_list = preprocess_data(results_list, titles)"
   ]
  },
  {
   "cell_type": "code",
   "execution_count": null,
   "id": "56a1c538",
   "metadata": {},
   "outputs": [],
   "source": []
  },
  {
   "cell_type": "code",
   "execution_count": 18,
   "id": "08e3d345",
   "metadata": {},
   "outputs": [
    {
     "name": "stderr",
     "output_type": "stream",
     "text": [
      "/home/jaybraun/miniconda3/lib/python3.9/site-packages/numpy/core/fromnumeric.py:3432: RuntimeWarning: Mean of empty slice.\n",
      "  return _methods._mean(a, axis=axis, dtype=dtype,\n",
      "/home/jaybraun/miniconda3/lib/python3.9/site-packages/numpy/core/_methods.py:190: RuntimeWarning: invalid value encountered in double_scalars\n",
      "  ret = ret.dtype.type(ret / rcount)\n",
      "/home/jaybraun/miniconda3/lib/python3.9/site-packages/numpy/core/_methods.py:265: RuntimeWarning: Degrees of freedom <= 0 for slice\n",
      "  ret = _var(a, axis=axis, dtype=dtype, out=out, ddof=ddof,\n",
      "/home/jaybraun/miniconda3/lib/python3.9/site-packages/numpy/core/_methods.py:223: RuntimeWarning: invalid value encountered in divide\n",
      "  arrmean = um.true_divide(arrmean, div, out=arrmean, casting='unsafe',\n",
      "/home/jaybraun/miniconda3/lib/python3.9/site-packages/numpy/core/_methods.py:257: RuntimeWarning: invalid value encountered in double_scalars\n",
      "  ret = ret.dtype.type(ret / rcount)\n"
     ]
    },
    {
     "data": {
      "image/png": "[encoded data removed]",
      "text/plain": [
       "<Figure size 300x300 with 1 Axes>"
      ]
     },
     "metadata": {},
     "output_type": "display_data"
    }
   ],
   "source": [
    "import seaborn as sns\n",
    "\n",
    "def calculate_stats(results):\n",
    "    strong_interdigitation = results['ratio']['num'][:, 1][5000:]\n",
    "    strong_mean = np.mean(strong_interdigitation)\n",
    "    strong_std = np.std(strong_interdigitation)\n",
    "    return strong_mean, strong_std\n",
    "\n",
    "def plot_avg_std_bar(results_list, titles):\n",
    "    stats = [calculate_stats(results) for results in results_list]\n",
    "    means = [stat[0] / 270 * 100 for stat in stats]  \n",
    "    stds = [stat[1] / 270 * 100 for stat in stats]  \n",
    "\n",
    "    labels = titles\n",
    "    x = np.arange(len(labels))\n",
    "    width = 0.5\n",
    "\n",
    "    # Set Seaborn theme for a clean and professional look\n",
    "    sns.set(style=\"darkgrid\")\n",
    "\n",
    "    # Create figure and axis\n",
    "    fig, ax = plt.subplots(figsize=(3, 3))\n",
    "\n",
    "    # Choose a professional color palette\n",
    "    colors = sns.color_palette(\"Paired\", len(labels))\n",
    "\n",
    "    # Plot bars with error bars\n",
    "    bars = ax.bar(x, means, width, yerr=stds, capsize=5, color=colors, edgecolor='black', alpha=0.9)\n",
    "\n",
    "    # Add the mean values on top of the bars for clarity\n",
    "#     for bar, mean in zip(bars, means):\n",
    "#         ax.text(bar.get_x() + bar.get_width() / 2, bar.get_height() - 2,\n",
    "#                 f'{mean:.2f}%', ha='center', va='bottom', color='black', fontsize=11, fontweight='bold')\n",
    "\n",
    "    # Customize axes labels and title\n",
    "    ax.set_ylabel('%', fontsize=11, fontweight='bold')\n",
    "    ax.set_title('Percentage SURF-TG', fontsize=11, fontweight='bold')\n",
    "\n",
    "    # Customize x-axis ticks and labels\n",
    "    ax.set_xticks(x)\n",
    "    ax.set_xticklabels(labels, rotation=45, ha='right', fontsize=12)\n",
    "\n",
    "    # Remove top and right borders to make it clean\n",
    "    sns.despine()\n",
    "\n",
    "    # Set tight layout for better spacing\n",
    "    fig.tight_layout()\n",
    "\n",
    "    # Set a fixed y-limit\n",
    "    plt.ylim(0, 7)  # Adjust this based on the expected percentage range\n",
    "#     plt.savefig('percent_surf_tg.png',bbox_inches='tight',dpi=600)\n",
    "\n",
    "    # Show the plot\n",
    "    plt.show()\n",
    "\n",
    "# Example usage\n",
    "results_list = [results_drude_eq]\n",
    "titles = ['Drude']\n",
    "\n",
    "# Call the plotting function\n",
    "plot_avg_std_bar(results_list, titles)\n"
   ]
  },
  {
   "cell_type": "code",
   "execution_count": null,
   "id": "4b6dab47",
   "metadata": {},
   "outputs": [],
   "source": []
  }
 ],
 "metadata": {
  "kernelspec": {
   "display_name": "Python 3 (ipykernel)",
   "language": "python",
   "name": "python3"
  },
  "language_info": {
   "codemirror_mode": {
    "name": "ipython",
    "version": 3
   },
   "file_extension": ".py",
   "mimetype": "text/x-python",
   "name": "python",
   "nbconvert_exporter": "python",
   "pygments_lexer": "ipython3",
   "version": "3.9.18"
  }
 },
 "nbformat": 4,
 "nbformat_minor": 5
}
